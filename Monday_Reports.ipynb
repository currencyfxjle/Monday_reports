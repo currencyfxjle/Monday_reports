{
  "nbformat": 4,
  "nbformat_minor": 0,
  "metadata": {
    "colab": {
      "provenance": [],
      "authorship_tag": "ABX9TyMbqSMrLau7/M0lBL5Vrfys",
      "include_colab_link": true
    },
    "kernelspec": {
      "name": "python3",
      "display_name": "Python 3"
    },
    "language_info": {
      "name": "python"
    }
  },
  "cells": [
    {
      "cell_type": "markdown",
      "metadata": {
        "id": "view-in-github",
        "colab_type": "text"
      },
      "source": [
        "<a href=\"https://colab.research.google.com/github/currencyfxjle/Monday_reports/blob/main/Monday_Reports.ipynb\" target=\"_parent\"><img src=\"https://colab.research.google.com/assets/colab-badge.svg\" alt=\"Open In Colab\"/></a>"
      ]
    },
    {
      "cell_type": "code",
      "source": [
        "import pandas as pd\n",
        "\n",
        "# Read the Excel file with multiple tabs\n",
        "excel_file = pd.ExcelFile('/content/week_sales.xlsx')\n",
        "\n",
        "# Create an ExcelWriter to save the results\n",
        "with pd.ExcelWriter('output_file.xlsx', engine='openpyxl') as writer:\n",
        "\n",
        "    # Iterate over each tab in the Excel file\n",
        "    for sheet_name in excel_file.sheet_names:\n",
        "        df = pd.read_excel('/content/week_sales.xlsx', sheet_name=sheet_name, header=0)\n",
        "\n",
        "        # Preprocessing\n",
        "        df['Type'] = df['Type'].astype(str)\n",
        "        df['Name'] = df['Name'].astype(str)\n",
        "        df['Item'] = df['Item'].astype(str)\n",
        "        df['Date'] = pd.to_datetime(df['Date'])\n",
        "        df['Amount'] = df['Amount'].replace(',', '', regex=True).astype(float)\n",
        "        df['Qty'] = df['Qty'].replace(',', '', regex=True).astype(float)\n",
        "\n",
        "        # Weekly sales matrices calculations\n",
        "        def calculate_matrix(groupby_column):\n",
        "            weekly_sales = df.groupby([groupby_column, pd.Grouper(key='Date', freq='W-SUN')]).agg({'Amount': 'sum'}).reset_index()\n",
        "            pivot = weekly_sales.pivot_table(values='Amount', index=groupby_column, columns=pd.Grouper(key='Date', freq='W-SUN'))\n",
        "\n",
        "            # Insert totals at the top and label as \"TOTALS\"\n",
        "            totals = pivot.sum().rename('TOTALS')\n",
        "            pivot.loc['TOTALS', :] = totals\n",
        "            ordered_index = ['TOTALS'] + [x for x in pivot.index if x != 'TOTALS']\n",
        "            pivot = pivot.reindex(ordered_index)\n",
        "            return pivot\n",
        "\n",
        "        matrix_rep_df = calculate_matrix('Rep')\n",
        "        matrix_item_df = calculate_matrix('Item')\n",
        "        matrix_name_df = calculate_matrix('Name')\n",
        "\n",
        "        # Save matrices for the current sheet to Excel\n",
        "        matrix_rep_df.reset_index().to_excel(writer, sheet_name=f'{sheet_name} Rep', index=False)\n",
        "        matrix_item_df.reset_index().to_excel(writer, sheet_name=f'{sheet_name} Item', index=False)\n",
        "        matrix_name_df.reset_index().to_excel(writer, sheet_name=f'{sheet_name} Customer', index=False)\n",
        "\n",
        "        # Autofit columns for each matrix sheet\n",
        "        for suffix in ['Rep', 'Item', 'Customer']:\n",
        "            worksheet = writer.sheets[f'{sheet_name} {suffix}']\n",
        "            for column_cells in worksheet.columns:\n",
        "                length = max(len(str(cell.value)) for cell in column_cells)\n",
        "                worksheet.column_dimensions[column_cells[0].column_letter].width = length\n",
        "\n",
        "# Download the Excel file\n",
        "from google.colab import files\n",
        "files.download('output_file.xlsx')"
      ],
      "metadata": {
        "colab": {
          "base_uri": "https://localhost:8080/",
          "height": 17
        },
        "id": "HCa8NyazU4G5",
        "outputId": "f4c2a2ef-4183-4d4d-ff8a-daac1e82318a"
      },
      "execution_count": null,
      "outputs": [
        {
          "output_type": "display_data",
          "data": {
            "text/plain": [
              "<IPython.core.display.Javascript object>"
            ],
            "application/javascript": [
              "\n",
              "    async function download(id, filename, size) {\n",
              "      if (!google.colab.kernel.accessAllowed) {\n",
              "        return;\n",
              "      }\n",
              "      const div = document.createElement('div');\n",
              "      const label = document.createElement('label');\n",
              "      label.textContent = `Downloading \"${filename}\": `;\n",
              "      div.appendChild(label);\n",
              "      const progress = document.createElement('progress');\n",
              "      progress.max = size;\n",
              "      div.appendChild(progress);\n",
              "      document.body.appendChild(div);\n",
              "\n",
              "      const buffers = [];\n",
              "      let downloaded = 0;\n",
              "\n",
              "      const channel = await google.colab.kernel.comms.open(id);\n",
              "      // Send a message to notify the kernel that we're ready.\n",
              "      channel.send({})\n",
              "\n",
              "      for await (const message of channel.messages) {\n",
              "        // Send a message to notify the kernel that we're ready.\n",
              "        channel.send({})\n",
              "        if (message.buffers) {\n",
              "          for (const buffer of message.buffers) {\n",
              "            buffers.push(buffer);\n",
              "            downloaded += buffer.byteLength;\n",
              "            progress.value = downloaded;\n",
              "          }\n",
              "        }\n",
              "      }\n",
              "      const blob = new Blob(buffers, {type: 'application/binary'});\n",
              "      const a = document.createElement('a');\n",
              "      a.href = window.URL.createObjectURL(blob);\n",
              "      a.download = filename;\n",
              "      div.appendChild(a);\n",
              "      a.click();\n",
              "      div.remove();\n",
              "    }\n",
              "  "
            ]
          },
          "metadata": {}
        },
        {
          "output_type": "display_data",
          "data": {
            "text/plain": [
              "<IPython.core.display.Javascript object>"
            ],
            "application/javascript": [
              "download(\"download_ad874729-dcbe-4a29-b4eb-adc58b737d23\", \"output_file.xlsx\", 213338)"
            ]
          },
          "metadata": {}
        }
      ]
    },
    {
      "cell_type": "markdown",
      "source": [
        "invoices and credit memo"
      ],
      "metadata": {
        "id": "PYXiQUgXdoGv"
      }
    },
    {
      "cell_type": "code",
      "source": [
        "import pandas as pd\n",
        "\n",
        "# Read the Excel file with multiple tabs\n",
        "excel_file = pd.ExcelFile('/content/week_sales.xlsx')\n",
        "\n",
        "# Create an ExcelWriter to save the results\n",
        "with pd.ExcelWriter('output_file.xlsx', engine='openpyxl') as writer:\n",
        "\n",
        "    # Define a function to calculate matrices for invoices and credit memos separately\n",
        "    def calculate_matrix(groupby_column):\n",
        "        # Read the data for the current sheet\n",
        "        df = pd.read_excel('/content/week_sales.xlsx', sheet_name=sheet_name, header=0)\n",
        "\n",
        "        # Preprocessing (same as before)\n",
        "        df['Type'] = df['Type'].astype(str)\n",
        "        df['Name'] = df['Name'].astype(str)\n",
        "        df['Item'] = df['Item'].astype(str)\n",
        "        df['Date'] = pd.to_datetime(df['Date'])\n",
        "        df['Amount'] = df['Amount'].replace(',', '', regex=True).astype(float)\n",
        "        df['Qty'] = df['Qty'].replace(',', '', regex=True).astype(float)\n",
        "\n",
        "        # Separate invoices and credit memos\n",
        "        invoices = df[df['Type'] == 'Invoice']\n",
        "        credit_memos = df[df['Type'] == 'Credit Memo']\n",
        "\n",
        "        # Calculate matrices for invoices and credit memos\n",
        "        weekly_sales_invoices = invoices.groupby([groupby_column, pd.Grouper(key='Date', freq='W-SUN')]).agg({'Amount': 'sum'}).reset_index()\n",
        "        weekly_sales_credit_memos = credit_memos.groupby([groupby_column, pd.Grouper(key='Date', freq='W-SUN')]).agg({'Amount': 'sum'}).reset_index()\n",
        "\n",
        "        # Pivot tables for invoices and credit memos\n",
        "        pivot_invoices = weekly_sales_invoices.pivot_table(values='Amount', index=groupby_column, columns=pd.Grouper(key='Date', freq='W-SUN'))\n",
        "        pivot_credit_memos = weekly_sales_credit_memos.pivot_table(values='Amount', index=groupby_column, columns=pd.Grouper(key='Date', freq='W-SUN'))\n",
        "\n",
        "        # Insert totals and concatenate invoices and credit memos\n",
        "        pivot_invoices.loc['TOTALS', :] = pivot_invoices.sum()\n",
        "        pivot_credit_memos.loc['TOTALS', :] = pivot_credit_memos.sum()\n",
        "\n",
        "        combined_matrix = pd.concat([pivot_invoices, pivot_credit_memos], axis=0, keys=['Invoices', 'Credit Memos'])\n",
        "\n",
        "        return combined_matrix\n",
        "\n",
        "    # Iterate over each tab in the Excel file\n",
        "    for sheet_name in excel_file.sheet_names:\n",
        "        matrix_combined_df = calculate_matrix('Rep')\n",
        "\n",
        "        # Save the combined matrix for the current sheet to Excel\n",
        "        matrix_combined_df.reset_index().to_excel(writer, sheet_name=f'{sheet_name} Rep', index=False)\n",
        "\n",
        "        # Autofit columns for the matrix sheet\n",
        "        worksheet = writer.sheets[f'{sheet_name} Rep']\n",
        "        for column_cells in worksheet.columns:\n",
        "            length = max(len(str(cell.value)) for cell in column_cells)\n",
        "            worksheet.column_dimensions[column_cells[0].column_letter].width = length\n",
        "\n",
        "        # Now, apply the same logic to 'Item' and 'Name' tabs\n",
        "        matrix_combined_item_df = calculate_matrix('Item')\n",
        "        matrix_combined_item_df.reset_index().to_excel(writer, sheet_name=f'{sheet_name} Item', index=False)\n",
        "\n",
        "        matrix_combined_name_df = calculate_matrix('Name')\n",
        "        matrix_combined_name_df.reset_index().to_excel(writer, sheet_name=f'{sheet_name} Customer', index=False)\n",
        "\n",
        "# Download the Excel file\n",
        "from google.colab import files\n",
        "files.download('output_file.xlsx')"
      ],
      "metadata": {
        "colab": {
          "base_uri": "https://localhost:8080/",
          "height": 17
        },
        "id": "yu-9fd5yNf7B",
        "outputId": "4a9ad150-7b7e-46e7-e717-b77240024ba4"
      },
      "execution_count": null,
      "outputs": [
        {
          "output_type": "display_data",
          "data": {
            "text/plain": [
              "<IPython.core.display.Javascript object>"
            ],
            "application/javascript": [
              "\n",
              "    async function download(id, filename, size) {\n",
              "      if (!google.colab.kernel.accessAllowed) {\n",
              "        return;\n",
              "      }\n",
              "      const div = document.createElement('div');\n",
              "      const label = document.createElement('label');\n",
              "      label.textContent = `Downloading \"${filename}\": `;\n",
              "      div.appendChild(label);\n",
              "      const progress = document.createElement('progress');\n",
              "      progress.max = size;\n",
              "      div.appendChild(progress);\n",
              "      document.body.appendChild(div);\n",
              "\n",
              "      const buffers = [];\n",
              "      let downloaded = 0;\n",
              "\n",
              "      const channel = await google.colab.kernel.comms.open(id);\n",
              "      // Send a message to notify the kernel that we're ready.\n",
              "      channel.send({})\n",
              "\n",
              "      for await (const message of channel.messages) {\n",
              "        // Send a message to notify the kernel that we're ready.\n",
              "        channel.send({})\n",
              "        if (message.buffers) {\n",
              "          for (const buffer of message.buffers) {\n",
              "            buffers.push(buffer);\n",
              "            downloaded += buffer.byteLength;\n",
              "            progress.value = downloaded;\n",
              "          }\n",
              "        }\n",
              "      }\n",
              "      const blob = new Blob(buffers, {type: 'application/binary'});\n",
              "      const a = document.createElement('a');\n",
              "      a.href = window.URL.createObjectURL(blob);\n",
              "      a.download = filename;\n",
              "      div.appendChild(a);\n",
              "      a.click();\n",
              "      div.remove();\n",
              "    }\n",
              "  "
            ]
          },
          "metadata": {}
        },
        {
          "output_type": "display_data",
          "data": {
            "text/plain": [
              "<IPython.core.display.Javascript object>"
            ],
            "application/javascript": [
              "download(\"download_163dc2cd-2e63-49c5-be67-a57fa1db2c3c\", \"output_file.xlsx\", 285213)"
            ]
          },
          "metadata": {}
        }
      ]
    },
    {
      "cell_type": "markdown",
      "source": [
        "Invoices & Credits separated by tab"
      ],
      "metadata": {
        "id": "EgrWMSRqiJ6S"
      }
    },
    {
      "cell_type": "code",
      "source": [
        "import pandas as pd\n",
        "\n",
        "# Read the Excel file with multiple tabs\n",
        "excel_file = pd.ExcelFile('/content/week_sales.xlsx')\n",
        "\n",
        "# Create an ExcelWriter to save the results\n",
        "with pd.ExcelWriter('output_file.xlsx', engine='openpyxl') as writer:\n",
        "\n",
        "    # Iterate over each tab in the Excel file\n",
        "    for sheet_name in excel_file.sheet_names:\n",
        "        df = pd.read_excel('/content/week_sales.xlsx', sheet_name=sheet_name, header=0)\n",
        "\n",
        "        # Preprocessing (same as your existing code)\n",
        "        df['Type'] = df['Type'].astype(str)\n",
        "        df['Name'] = df['Name'].astype(str)\n",
        "        df['Item'] = df['Item'].astype(str)\n",
        "        df['Date'] = pd.to_datetime(df['Date'])\n",
        "        df['Amount'] = df['Amount'].replace(',', '', regex=True).astype(float)\n",
        "        df['Qty'] = df['Qty'].replace(',', '', regex=True).astype(float)\n",
        "\n",
        "        # Separate invoices and credit memos\n",
        "        invoices_df = df[df['Type'] == 'Invoice']\n",
        "        credit_memos_df = df[df['Type'] == 'Credit Memo']\n",
        "\n",
        "        # Weekly sales matrices calculations for invoices and credit memos\n",
        "        def calculate_matrix(groupby_column, data):\n",
        "            weekly_sales = data.groupby([groupby_column, pd.Grouper(key='Date', freq='W-SUN')]).agg({'Amount': 'sum'}).reset_index()\n",
        "            pivot = weekly_sales.pivot_table(values='Amount', index=groupby_column, columns=pd.Grouper(key='Date', freq='W-SUN'))\n",
        "\n",
        "            # Insert totals at the top and label as \"TOTALS\"\n",
        "            totals = pivot.sum().rename('TOTALS')\n",
        "            pivot.loc['TOTALS', :] = totals\n",
        "            ordered_index = ['TOTALS'] + [x for x in pivot.index if x != 'TOTALS']\n",
        "            pivot = pivot.reindex(ordered_index)\n",
        "            return pivot\n",
        "\n",
        "        matrix_rep_df_invoices = calculate_matrix('Rep', invoices_df)\n",
        "        matrix_rep_df_credit_memos = calculate_matrix('Rep', credit_memos_df)\n",
        "        matrix_item_df_invoices = calculate_matrix('Item', invoices_df)\n",
        "        matrix_item_df_credit_memos = calculate_matrix('Item', credit_memos_df)\n",
        "        matrix_name_df_invoices = calculate_matrix('Name', invoices_df)\n",
        "        matrix_name_df_credit_memos = calculate_matrix('Name', credit_memos_df)\n",
        "\n",
        "        # Create a new DataFrame combining invoices and credit memos\n",
        "        combined_df = pd.concat([matrix_rep_df_invoices, matrix_rep_df_credit_memos], axis=1)\n",
        "\n",
        "        # Save the combined DataFrame to Excel with the desired sheet name\n",
        "        combined_df.reset_index().to_excel(writer, sheet_name=f'{sheet_name} Combined', index=False)\n",
        "\n",
        "        # Save matrices for items and names for invoices and credit memos\n",
        "        matrix_item_df_invoices.reset_index().to_excel(writer, sheet_name=f'{sheet_name} Item Invoices', index=False)\n",
        "        matrix_item_df_credit_memos.reset_index().to_excel(writer, sheet_name=f'{sheet_name} Item Credit Memos', index=False)\n",
        "        matrix_name_df_invoices.reset_index().to_excel(writer, sheet_name=f'{sheet_name} Name Invoices', index=False)\n",
        "        matrix_name_df_credit_memos.reset_index().to_excel(writer, sheet_name=f'{sheet_name} Name Credit Memos', index=False)\n",
        "\n",
        "        # Autofit columns for all sheets\n",
        "        for suffix in ['Combined', 'Item Invoices', 'Item Credit Memos', 'Name Invoices', 'Name Credit Memos']:\n",
        "            worksheet = writer.sheets[f'{sheet_name} {suffix}']\n",
        "            for column_cells in worksheet.columns:\n",
        "                length = max(len(str(cell.value)) for cell in column_cells)\n",
        "                worksheet.column_dimensions[column_cells[0].column_letter].width = length\n",
        "\n",
        "# Download the Excel file\n",
        "from google.colab import files\n",
        "files.download('output_file.xlsx')\n"
      ],
      "metadata": {
        "colab": {
          "base_uri": "https://localhost:8080/",
          "height": 17
        },
        "id": "fydvzubOMMOV",
        "outputId": "6c2ef251-d89e-43d3-e286-130d13f17e6f"
      },
      "execution_count": null,
      "outputs": [
        {
          "output_type": "display_data",
          "data": {
            "text/plain": [
              "<IPython.core.display.Javascript object>"
            ],
            "application/javascript": [
              "\n",
              "    async function download(id, filename, size) {\n",
              "      if (!google.colab.kernel.accessAllowed) {\n",
              "        return;\n",
              "      }\n",
              "      const div = document.createElement('div');\n",
              "      const label = document.createElement('label');\n",
              "      label.textContent = `Downloading \"${filename}\": `;\n",
              "      div.appendChild(label);\n",
              "      const progress = document.createElement('progress');\n",
              "      progress.max = size;\n",
              "      div.appendChild(progress);\n",
              "      document.body.appendChild(div);\n",
              "\n",
              "      const buffers = [];\n",
              "      let downloaded = 0;\n",
              "\n",
              "      const channel = await google.colab.kernel.comms.open(id);\n",
              "      // Send a message to notify the kernel that we're ready.\n",
              "      channel.send({})\n",
              "\n",
              "      for await (const message of channel.messages) {\n",
              "        // Send a message to notify the kernel that we're ready.\n",
              "        channel.send({})\n",
              "        if (message.buffers) {\n",
              "          for (const buffer of message.buffers) {\n",
              "            buffers.push(buffer);\n",
              "            downloaded += buffer.byteLength;\n",
              "            progress.value = downloaded;\n",
              "          }\n",
              "        }\n",
              "      }\n",
              "      const blob = new Blob(buffers, {type: 'application/binary'});\n",
              "      const a = document.createElement('a');\n",
              "      a.href = window.URL.createObjectURL(blob);\n",
              "      a.download = filename;\n",
              "      div.appendChild(a);\n",
              "      a.click();\n",
              "      div.remove();\n",
              "    }\n",
              "  "
            ]
          },
          "metadata": {}
        },
        {
          "output_type": "display_data",
          "data": {
            "text/plain": [
              "<IPython.core.display.Javascript object>"
            ],
            "application/javascript": [
              "download(\"download_202eab0e-19ec-4500-8636-d37a8bea132b\", \"output_file.xlsx\", 278899)"
            ]
          },
          "metadata": {}
        }
      ]
    },
    {
      "cell_type": "markdown",
      "source": [
        "Test improvements invoice & credits...."
      ],
      "metadata": {
        "id": "g-MpiqWRoi6C"
      }
    },
    {
      "cell_type": "code",
      "source": [
        "import pandas as pd\n",
        "\n",
        "# Read the Excel file with multiple tabs\n",
        "excel_file = pd.ExcelFile('/content/week_sales.xlsx')\n",
        "\n",
        "# Create an ExcelWriter to save the results\n",
        "with pd.ExcelWriter('output_file.xlsx', engine='openpyxl') as writer:\n",
        "\n",
        "    # Iterate over each tab in the Excel file\n",
        "    for sheet_name in excel_file.sheet_names:\n",
        "        df = pd.read_excel('/content/week_sales.xlsx', sheet_name=sheet_name, header=0)\n",
        "\n",
        "        # Preprocessing\n",
        "        df['Type'] = df['Type'].astype(str)\n",
        "        df['Name'] = df['Name'].astype(str)\n",
        "        df['Item'] = df['Item'].astype(str)\n",
        "        df['Date'] = pd.to_datetime(df['Date'])\n",
        "        df['Amount'] = df['Amount'].replace(',', '', regex=True).astype(float)\n",
        "        df['Qty'] = df['Qty'].replace(',', '', regex=True).astype(float)\n",
        "\n",
        "        # Weekly sales matrices calculations\n",
        "        def calculate_matrix(groupby_column):\n",
        "            weekly_sales = df.groupby([groupby_column, pd.Grouper(key='Date', freq='W-SUN')]).agg({'Amount': 'sum'}).reset_index()\n",
        "            pivot = weekly_sales.pivot_table(values='Amount', index=groupby_column, columns=pd.Grouper(key='Date', freq='W-SUN'))\n",
        "\n",
        "            # Insert totals at the top and label as \"TOTALS\"\n",
        "            totals = pivot.sum().rename('TOTALS')\n",
        "            pivot.loc['TOTALS', :] = totals\n",
        "            ordered_index = ['TOTALS'] + [x for x in pivot.index if x != 'TOTALS']\n",
        "            pivot = pivot.reindex(ordered_index)\n",
        "            return pivot\n",
        "\n",
        "        matrix_rep_df = calculate_matrix('Rep')\n",
        "        matrix_item_df = calculate_matrix('Item')\n",
        "        matrix_name_df = calculate_matrix('Name')\n",
        "\n",
        "        # Save matrices for the current sheet to Excel\n",
        "        matrix_rep_df.reset_index().to_excel(writer, sheet_name=f'{sheet_name} Rep', index=False)\n",
        "        matrix_item_df.reset_index().to_excel(writer, sheet_name=f'{sheet_name} Item', index=False)\n",
        "        matrix_name_df.reset_index().to_excel(writer, sheet_name=f'{sheet_name} Customer', index=False)\n",
        "\n",
        "        # Autofit columns for each matrix sheet\n",
        "        for suffix in ['Rep', 'Item', 'Customer']:\n",
        "            worksheet = writer.sheets[f'{sheet_name} {suffix}']\n",
        "            for column_cells in worksheet.columns:\n",
        "                length = max(len(str(cell.value)) for cell in column_cells)\n",
        "                worksheet.column_dimensions[column_cells[0].column_letter].width = length\n",
        "\n",
        "# Download the Excel file\n",
        "from google.colab import files\n",
        "files.download('output_file.xlsx')"
      ],
      "metadata": {
        "colab": {
          "base_uri": "https://localhost:8080/",
          "height": 17
        },
        "id": "dbGuB_P4OOGo",
        "outputId": "6ff29785-0116-4800-80e6-da6cb8493f0b"
      },
      "execution_count": null,
      "outputs": [
        {
          "output_type": "display_data",
          "data": {
            "text/plain": [
              "<IPython.core.display.Javascript object>"
            ],
            "application/javascript": [
              "\n",
              "    async function download(id, filename, size) {\n",
              "      if (!google.colab.kernel.accessAllowed) {\n",
              "        return;\n",
              "      }\n",
              "      const div = document.createElement('div');\n",
              "      const label = document.createElement('label');\n",
              "      label.textContent = `Downloading \"${filename}\": `;\n",
              "      div.appendChild(label);\n",
              "      const progress = document.createElement('progress');\n",
              "      progress.max = size;\n",
              "      div.appendChild(progress);\n",
              "      document.body.appendChild(div);\n",
              "\n",
              "      const buffers = [];\n",
              "      let downloaded = 0;\n",
              "\n",
              "      const channel = await google.colab.kernel.comms.open(id);\n",
              "      // Send a message to notify the kernel that we're ready.\n",
              "      channel.send({})\n",
              "\n",
              "      for await (const message of channel.messages) {\n",
              "        // Send a message to notify the kernel that we're ready.\n",
              "        channel.send({})\n",
              "        if (message.buffers) {\n",
              "          for (const buffer of message.buffers) {\n",
              "            buffers.push(buffer);\n",
              "            downloaded += buffer.byteLength;\n",
              "            progress.value = downloaded;\n",
              "          }\n",
              "        }\n",
              "      }\n",
              "      const blob = new Blob(buffers, {type: 'application/binary'});\n",
              "      const a = document.createElement('a');\n",
              "      a.href = window.URL.createObjectURL(blob);\n",
              "      a.download = filename;\n",
              "      div.appendChild(a);\n",
              "      a.click();\n",
              "      div.remove();\n",
              "    }\n",
              "  "
            ]
          },
          "metadata": {}
        },
        {
          "output_type": "display_data",
          "data": {
            "text/plain": [
              "<IPython.core.display.Javascript object>"
            ],
            "application/javascript": [
              "download(\"download_db5f2e28-eabc-446a-9a76-8f7f3cc197fb\", \"output_file.xlsx\", 197404)"
            ]
          },
          "metadata": {}
        }
      ]
    },
    {
      "cell_type": "markdown",
      "source": [
        "TOTALES de intervalos semanales"
      ],
      "metadata": {
        "id": "CS6lo8QVe-K_"
      }
    },
    {
      "cell_type": "code",
      "source": [
        "import pandas as pd\n",
        "\n",
        "# Read the Excel file with multiple tabs\n",
        "excel_file = pd.ExcelFile('/content/week_sales.xlsx')\n",
        "\n",
        "# Create an ExcelWriter to save the results\n",
        "with pd.ExcelWriter('output_file.xlsx', engine='openpyxl') as writer:\n",
        "\n",
        "    # Iterate over each tab in the Excel file\n",
        "    for sheet_name in excel_file.sheet_names:\n",
        "        df = pd.read_excel('/content/week_sales.xlsx', sheet_name=sheet_name, header=0)\n",
        "\n",
        "        # Preprocessing\n",
        "        df['Type'] = df['Type'].astype(str)\n",
        "        df['Name'] = df['Name'].astype(str)\n",
        "        df['Item'] = df['Item'].astype(str)\n",
        "        df['Date'] = pd.to_datetime(df['Date'])\n",
        "        df['Amount'] = df['Amount'].replace(',', '', regex=True).astype(float)\n",
        "        df['Qty'] = df['Qty'].replace(',', '', regex=True).astype(float)\n",
        "\n",
        "        # Total sales calculations\n",
        "        def calculate_total(groupby_column):\n",
        "            return df.groupby(groupby_column).agg({'Amount': 'sum'}).reset_index()\n",
        "\n",
        "        total_rep_df = calculate_total('Rep')\n",
        "        total_item_df = calculate_total('Item')\n",
        "        total_name_df = calculate_total('Name')\n",
        "\n",
        "        # Save totals for the current sheet to Excel\n",
        "        total_rep_df.to_excel(writer, sheet_name=f'{sheet_name} Rep Total', index=False)\n",
        "        total_item_df.to_excel(writer, sheet_name=f'{sheet_name} Item Total', index=False)\n",
        "        total_name_df.to_excel(writer, sheet_name=f'{sheet_name} Customer Total', index=False)\n",
        "\n",
        "        # Autofit columns for each sheet\n",
        "        for suffix in ['Rep Total', 'Item Total', 'Customer Total']:\n",
        "            worksheet = writer.sheets[f'{sheet_name} {suffix}']\n",
        "            for column_cells in worksheet.columns:\n",
        "                length = max(len(str(cell.value)) for cell in column_cells)\n",
        "                worksheet.column_dimensions[column_cells[0].column_letter].width = length\n",
        "\n",
        "# Download the Excel file\n",
        "from google.colab import files\n",
        "files.download('output_file.xlsx')\n"
      ],
      "metadata": {
        "colab": {
          "base_uri": "https://localhost:8080/",
          "height": 17
        },
        "id": "N0MoxxCc4Mcm",
        "outputId": "c7e40efb-d35d-4f79-9bae-9b85fb6f49f8"
      },
      "execution_count": null,
      "outputs": [
        {
          "output_type": "display_data",
          "data": {
            "text/plain": [
              "<IPython.core.display.Javascript object>"
            ],
            "application/javascript": [
              "\n",
              "    async function download(id, filename, size) {\n",
              "      if (!google.colab.kernel.accessAllowed) {\n",
              "        return;\n",
              "      }\n",
              "      const div = document.createElement('div');\n",
              "      const label = document.createElement('label');\n",
              "      label.textContent = `Downloading \"${filename}\": `;\n",
              "      div.appendChild(label);\n",
              "      const progress = document.createElement('progress');\n",
              "      progress.max = size;\n",
              "      div.appendChild(progress);\n",
              "      document.body.appendChild(div);\n",
              "\n",
              "      const buffers = [];\n",
              "      let downloaded = 0;\n",
              "\n",
              "      const channel = await google.colab.kernel.comms.open(id);\n",
              "      // Send a message to notify the kernel that we're ready.\n",
              "      channel.send({})\n",
              "\n",
              "      for await (const message of channel.messages) {\n",
              "        // Send a message to notify the kernel that we're ready.\n",
              "        channel.send({})\n",
              "        if (message.buffers) {\n",
              "          for (const buffer of message.buffers) {\n",
              "            buffers.push(buffer);\n",
              "            downloaded += buffer.byteLength;\n",
              "            progress.value = downloaded;\n",
              "          }\n",
              "        }\n",
              "      }\n",
              "      const blob = new Blob(buffers, {type: 'application/binary'});\n",
              "      const a = document.createElement('a');\n",
              "      a.href = window.URL.createObjectURL(blob);\n",
              "      a.download = filename;\n",
              "      div.appendChild(a);\n",
              "      a.click();\n",
              "      div.remove();\n",
              "    }\n",
              "  "
            ]
          },
          "metadata": {}
        },
        {
          "output_type": "display_data",
          "data": {
            "text/plain": [
              "<IPython.core.display.Javascript object>"
            ],
            "application/javascript": [
              "download(\"download_01f5ccef-bf33-4a2a-b6e8-725634f0bf60\", \"output_file.xlsx\", 75615)"
            ]
          },
          "metadata": {}
        }
      ]
    },
    {
      "cell_type": "markdown",
      "source": [
        "REPORTE INVENTARIO JESSICA"
      ],
      "metadata": {
        "id": "G-rpXJvSUkZx"
      }
    },
    {
      "cell_type": "code",
      "source": [
        "import pandas as pd\n",
        "\n",
        "#SEMANA DE LUNES A VIERNES\n",
        "# Read the Excel file with multiple tabs\n",
        "excel_file = pd.ExcelFile('/content/Inventario_Jessica.xlsx')\n",
        "\n",
        "# Create an ExcelWriter to save the results\n",
        "with pd.ExcelWriter('output_file.xlsx', engine='openpyxl') as writer:\n",
        "\n",
        "    # Iterate over each tab in the Excel file\n",
        "    for sheet_name in excel_file.sheet_names:\n",
        "        df = pd.read_excel('/content/Inventario_Jessica.xlsx', sheet_name=sheet_name, header=0)\n",
        "\n",
        "        # Preprocessing\n",
        "        df['Type'] = df['Type'].astype(str)\n",
        "        df['Name'] = df['Name'].astype(str)\n",
        "        df['Item'] = df['Item'].astype(str)\n",
        "        df['Date'] = pd.to_datetime(df['Date'])\n",
        "        df['Amount'] = df['Amount'].replace(',', '', regex=True).astype(float)\n",
        "        df['Qty'] = df['Qty'].replace(',', '', regex=True).astype(float)\n",
        "\n",
        "        # Weekly sales matrices calculations\n",
        "        def calculate_matrix(groupby_column, values_column):\n",
        "            weekly_sales = df.groupby([groupby_column, pd.Grouper(key='Date', freq='W-SUN')]).agg({values_column: 'sum'}).reset_index()\n",
        "            pivot = weekly_sales.pivot_table(values=values_column, index=groupby_column, columns=pd.Grouper(key='Date', freq='W-SUN'))\n",
        "\n",
        "            # Insert totals at the top and label as \"TOTALS\"\n",
        "            totals = pivot.sum().rename('TOTALS')\n",
        "            pivot.loc['TOTALS', :] = totals\n",
        "            ordered_index = ['TOTALS'] + [x for x in pivot.index if x != 'TOTALS']\n",
        "            pivot = pivot.reindex(ordered_index)\n",
        "            return pivot\n",
        "\n",
        "        matrix_rep_df = calculate_matrix('Rep', 'Amount')\n",
        "        matrix_item_amount_df = calculate_matrix('Item', 'Amount')\n",
        "        matrix_item_qty_df = calculate_matrix('Item', 'Qty')\n",
        "        matrix_name_df = calculate_matrix('Name', 'Amount')\n",
        "\n",
        "        # Save matrices for the current sheet to Excel\n",
        "        matrix_rep_df.reset_index().to_excel(writer, sheet_name=f'{sheet_name} Rep', index=False)\n",
        "        matrix_item_amount_df.reset_index().to_excel(writer, sheet_name=f'{sheet_name} Item Amount', index=False)\n",
        "        matrix_item_qty_df.reset_index().to_excel(writer, sheet_name=f'{sheet_name} Item Qty', index=False)\n",
        "        matrix_name_df.reset_index().to_excel(writer, sheet_name=f'{sheet_name} Customer', index=False)\n",
        "\n",
        "        # Autofit columns for each matrix sheet\n",
        "        for suffix in ['Rep', 'Item Amount', 'Item Qty', 'Customer']:\n",
        "            worksheet = writer.sheets[f'{sheet_name} {suffix}']\n",
        "            for column_cells in worksheet.columns:\n",
        "                length = max(len(str(cell.value)) for cell in column_cells)\n",
        "                worksheet.column_dimensions[column_cells[0].column_letter].width = length\n",
        "\n",
        "# Download the Excel file\n",
        "from google.colab import files\n",
        "files.download('output_file.xlsx')\n"
      ],
      "metadata": {
        "colab": {
          "base_uri": "https://localhost:8080/",
          "height": 17
        },
        "id": "Dqyq7US8466D",
        "outputId": "d6b5bcfc-0e26-4d43-82b4-073dda132689"
      },
      "execution_count": null,
      "outputs": [
        {
          "output_type": "display_data",
          "data": {
            "text/plain": [
              "<IPython.core.display.Javascript object>"
            ],
            "application/javascript": [
              "\n",
              "    async function download(id, filename, size) {\n",
              "      if (!google.colab.kernel.accessAllowed) {\n",
              "        return;\n",
              "      }\n",
              "      const div = document.createElement('div');\n",
              "      const label = document.createElement('label');\n",
              "      label.textContent = `Downloading \"${filename}\": `;\n",
              "      div.appendChild(label);\n",
              "      const progress = document.createElement('progress');\n",
              "      progress.max = size;\n",
              "      div.appendChild(progress);\n",
              "      document.body.appendChild(div);\n",
              "\n",
              "      const buffers = [];\n",
              "      let downloaded = 0;\n",
              "\n",
              "      const channel = await google.colab.kernel.comms.open(id);\n",
              "      // Send a message to notify the kernel that we're ready.\n",
              "      channel.send({})\n",
              "\n",
              "      for await (const message of channel.messages) {\n",
              "        // Send a message to notify the kernel that we're ready.\n",
              "        channel.send({})\n",
              "        if (message.buffers) {\n",
              "          for (const buffer of message.buffers) {\n",
              "            buffers.push(buffer);\n",
              "            downloaded += buffer.byteLength;\n",
              "            progress.value = downloaded;\n",
              "          }\n",
              "        }\n",
              "      }\n",
              "      const blob = new Blob(buffers, {type: 'application/binary'});\n",
              "      const a = document.createElement('a');\n",
              "      a.href = window.URL.createObjectURL(blob);\n",
              "      a.download = filename;\n",
              "      div.appendChild(a);\n",
              "      a.click();\n",
              "      div.remove();\n",
              "    }\n",
              "  "
            ]
          },
          "metadata": {}
        },
        {
          "output_type": "display_data",
          "data": {
            "text/plain": [
              "<IPython.core.display.Javascript object>"
            ],
            "application/javascript": [
              "download(\"download_1ccf31f1-1245-4462-b567-3c1751ae8f68\", \"output_file.xlsx\", 35568)"
            ]
          },
          "metadata": {}
        }
      ]
    },
    {
      "cell_type": "markdown",
      "source": [
        "QTY & AMOUNT SEPARATED"
      ],
      "metadata": {
        "id": "0V7PeypkYzvm"
      }
    },
    {
      "cell_type": "code",
      "source": [
        "import pandas as pd\n",
        "# SEMANA DOMINGO A SABADO\n",
        "# Read the Excel file with multiple tabs\n",
        "excel_file = pd.ExcelFile('/content/Jessica_inventory_code.xlsx')\n",
        "\n",
        "# Create an ExcelWriter to save the results\n",
        "with pd.ExcelWriter('output_file.xlsx', engine='openpyxl') as writer:\n",
        "\n",
        "    # Iterate over each tab in the Excel file\n",
        "    for sheet_name in excel_file.sheet_names:\n",
        "        df = pd.read_excel('/content/Jessica_inventory_code.xlsx', sheet_name=sheet_name, header=0)\n",
        "\n",
        "        # Preprocessing\n",
        "        df['Type'] = df['Type'].astype(str)\n",
        "        df['Name'] = df['Name'].astype(str)\n",
        "        df['Item'] = df['Item'].astype(str)\n",
        "        df['Date'] = pd.to_datetime(df['Date'])\n",
        "        df['Amount'] = df['Amount'].replace(',', '', regex=True).astype(float)\n",
        "        df['Qty'] = df['Qty'].replace(',', '', regex=True).astype(float)\n",
        "\n",
        "        # Weekly sales matrices calculations\n",
        "        def calculate_matrix(groupby_column):\n",
        "            weekly_sales = df.groupby([groupby_column, pd.Grouper(key='Date', freq='W-SAT')]).agg({'Amount': 'sum', 'Qty': 'sum'}).reset_index()\n",
        "            pivot_amount = weekly_sales.pivot_table(values='Amount', index=groupby_column, columns=pd.Grouper(key='Date', freq='W-SAT'))\n",
        "            pivot_qty = weekly_sales.pivot_table(values='Qty', index=groupby_column, columns=pd.Grouper(key='Date', freq='W-SAT'))\n",
        "\n",
        "            # Insert totals at the top and label as \"TOTALS\"\n",
        "            for pivot in [pivot_amount, pivot_qty]:\n",
        "                totals = pivot.sum().rename('TOTALS')\n",
        "                pivot.loc['TOTALS', :] = totals\n",
        "                ordered_index = ['TOTALS'] + [x for x in pivot.index if x != 'TOTALS']\n",
        "                pivot = pivot.reindex(ordered_index)\n",
        "\n",
        "            # Concatenate Amount and Qty side by side\n",
        "            result = pd.concat([pivot_amount, pivot_qty], axis=1, keys=['Amount', 'Qty'])\n",
        "\n",
        "            return result\n",
        "\n",
        "        matrix_rep_df = calculate_matrix('Rep')\n",
        "        matrix_item_df = calculate_matrix('Item')\n",
        "        matrix_name_df = calculate_matrix('Name')\n",
        "\n",
        "        # Save matrices for the current sheet to Excel\n",
        "        matrix_rep_df.to_excel(writer, sheet_name=f'{sheet_name} Rep', index=True)\n",
        "        matrix_item_df.to_excel(writer, sheet_name=f'{sheet_name} Item', index=True)\n",
        "        matrix_name_df.to_excel(writer, sheet_name=f'{sheet_name} Customer', index=True)\n",
        "\n",
        "# Autofit columns for each matrix sheet\n",
        "for suffix in ['Rep', 'Item', 'Customer']:\n",
        "    worksheet = writer.sheets[f'{sheet_name} {suffix}']\n",
        "    for column_cells in worksheet.columns:\n",
        "        try:\n",
        "            length = max(len(str(cell.value)) for cell in column_cells)\n",
        "            worksheet.column_dimensions[column_cells[0].column_letter].width = length\n",
        "        except AttributeError:\n",
        "            continue\n",
        "\n",
        "\n",
        "# Download the Excel file\n",
        "from google.colab import files\n",
        "files.download('output_file.xlsx')\n"
      ],
      "metadata": {
        "colab": {
          "base_uri": "https://localhost:8080/",
          "height": 17
        },
        "id": "Wgc71WoEVrGG",
        "outputId": "ef469231-df3a-4e71-9112-8dacdc59e8f6"
      },
      "execution_count": null,
      "outputs": [
        {
          "output_type": "display_data",
          "data": {
            "text/plain": [
              "<IPython.core.display.Javascript object>"
            ],
            "application/javascript": [
              "\n",
              "    async function download(id, filename, size) {\n",
              "      if (!google.colab.kernel.accessAllowed) {\n",
              "        return;\n",
              "      }\n",
              "      const div = document.createElement('div');\n",
              "      const label = document.createElement('label');\n",
              "      label.textContent = `Downloading \"${filename}\": `;\n",
              "      div.appendChild(label);\n",
              "      const progress = document.createElement('progress');\n",
              "      progress.max = size;\n",
              "      div.appendChild(progress);\n",
              "      document.body.appendChild(div);\n",
              "\n",
              "      const buffers = [];\n",
              "      let downloaded = 0;\n",
              "\n",
              "      const channel = await google.colab.kernel.comms.open(id);\n",
              "      // Send a message to notify the kernel that we're ready.\n",
              "      channel.send({})\n",
              "\n",
              "      for await (const message of channel.messages) {\n",
              "        // Send a message to notify the kernel that we're ready.\n",
              "        channel.send({})\n",
              "        if (message.buffers) {\n",
              "          for (const buffer of message.buffers) {\n",
              "            buffers.push(buffer);\n",
              "            downloaded += buffer.byteLength;\n",
              "            progress.value = downloaded;\n",
              "          }\n",
              "        }\n",
              "      }\n",
              "      const blob = new Blob(buffers, {type: 'application/binary'});\n",
              "      const a = document.createElement('a');\n",
              "      a.href = window.URL.createObjectURL(blob);\n",
              "      a.download = filename;\n",
              "      div.appendChild(a);\n",
              "      a.click();\n",
              "      div.remove();\n",
              "    }\n",
              "  "
            ]
          },
          "metadata": {}
        },
        {
          "output_type": "display_data",
          "data": {
            "text/plain": [
              "<IPython.core.display.Javascript object>"
            ],
            "application/javascript": [
              "download(\"download_b0d28a50-a04c-46bd-a090-4bc269bc8f77\", \"output_file.xlsx\", 129765)"
            ]
          },
          "metadata": {}
        }
      ]
    },
    {
      "cell_type": "markdown",
      "source": [
        "QTY & AMOUNT BY WEEK ALONG SIDE"
      ],
      "metadata": {
        "id": "Z8fWRGZvYrBN"
      }
    },
    {
      "cell_type": "code",
      "source": [
        "import pandas as pd\n",
        "\n",
        "# Read the Excel file with multiple tabs\n",
        "excel_file = pd.ExcelFile('/content/CA_items.xlsx')\n",
        "\n",
        "# Create an ExcelWriter to save the results\n",
        "with pd.ExcelWriter('output_file.xlsx', engine='openpyxl') as writer:\n",
        "\n",
        "    # Iterate over each tab in the Excel file\n",
        "    for sheet_name in excel_file.sheet_names:\n",
        "        df = pd.read_excel('/content/CA_items.xlsx', sheet_name=sheet_name, header=0)\n",
        "\n",
        "        # Preprocessing\n",
        "        df['Type'] = df['Type'].astype(str)\n",
        "        df['Name'] = df['Name'].astype(str)\n",
        "        df['Item'] = df['Item'].astype(str)\n",
        "        df['Date'] = pd.to_datetime(df['Date'])\n",
        "        df['Amount'] = df['Amount'].replace(',', '', regex=True).astype(float)\n",
        "        df['Qty'] = df['Qty'].replace(',', '', regex=True).astype(float)\n",
        "\n",
        "        # Weekly sales matrices calculations\n",
        "        def calculate_matrix(groupby_column):\n",
        "            weekly_sales = df.groupby([groupby_column, pd.Grouper(key='Date', freq='W-SUN')]).agg({'Amount': 'sum', 'Qty': 'sum'}).reset_index()\n",
        "\n",
        "            # Create multi-level columns\n",
        "            multi_indexed_df = weekly_sales.set_index([groupby_column, 'Date']).stack().unstack(level=-1).unstack(level=-1)\n",
        "            multi_indexed_df = multi_indexed_df.swaplevel(i=0, j=1, axis=1).sort_index(axis=1)\n",
        "\n",
        "            # Insert totals\n",
        "            totals = multi_indexed_df.sum().rename('TOTALS')\n",
        "            multi_indexed_df.loc['TOTALS', :] = totals\n",
        "            ordered_index = ['TOTALS'] + [x for x in multi_indexed_df.index if x != 'TOTALS']\n",
        "            multi_indexed_df = multi_indexed_df.reindex(ordered_index)\n",
        "\n",
        "            return multi_indexed_df\n",
        "\n",
        "        matrix_rep_df = calculate_matrix('Rep')\n",
        "        matrix_item_df = calculate_matrix('Item')\n",
        "        matrix_name_df = calculate_matrix('Name')\n",
        "\n",
        "        # Save matrices for the current sheet to Excel\n",
        "        matrix_rep_df.to_excel(writer, sheet_name=f'{sheet_name} Rep', index=True)\n",
        "        matrix_item_df.to_excel(writer, sheet_name=f'{sheet_name} Item', index=True)\n",
        "        matrix_name_df.to_excel(writer, sheet_name=f'{sheet_name} Customer', index=True)\n",
        "\n",
        "    # Autofit columns for each matrix sheet\n",
        "    for suffix in ['Rep', 'Item', 'Customer']:\n",
        "        worksheet = writer.sheets[f'{sheet_name} {suffix}']\n",
        "        for column_cells in worksheet.columns:\n",
        "            try:\n",
        "                length = max(len(str(cell.value)) for cell in column_cells)\n",
        "                worksheet.column_dimensions[column_cells[0].column_letter].width = length\n",
        "            except AttributeError:\n",
        "                continue\n",
        "\n",
        "# Download the Excel file\n",
        "from google.colab import files\n",
        "files.download('output_file.xlsx')\n"
      ],
      "metadata": {
        "colab": {
          "base_uri": "https://localhost:8080/",
          "height": 17
        },
        "id": "k1nYn9P2WotY",
        "outputId": "93e8881c-7370-4ead-dbd4-eea1408500c6"
      },
      "execution_count": null,
      "outputs": [
        {
          "output_type": "display_data",
          "data": {
            "text/plain": [
              "<IPython.core.display.Javascript object>"
            ],
            "application/javascript": [
              "\n",
              "    async function download(id, filename, size) {\n",
              "      if (!google.colab.kernel.accessAllowed) {\n",
              "        return;\n",
              "      }\n",
              "      const div = document.createElement('div');\n",
              "      const label = document.createElement('label');\n",
              "      label.textContent = `Downloading \"${filename}\": `;\n",
              "      div.appendChild(label);\n",
              "      const progress = document.createElement('progress');\n",
              "      progress.max = size;\n",
              "      div.appendChild(progress);\n",
              "      document.body.appendChild(div);\n",
              "\n",
              "      const buffers = [];\n",
              "      let downloaded = 0;\n",
              "\n",
              "      const channel = await google.colab.kernel.comms.open(id);\n",
              "      // Send a message to notify the kernel that we're ready.\n",
              "      channel.send({})\n",
              "\n",
              "      for await (const message of channel.messages) {\n",
              "        // Send a message to notify the kernel that we're ready.\n",
              "        channel.send({})\n",
              "        if (message.buffers) {\n",
              "          for (const buffer of message.buffers) {\n",
              "            buffers.push(buffer);\n",
              "            downloaded += buffer.byteLength;\n",
              "            progress.value = downloaded;\n",
              "          }\n",
              "        }\n",
              "      }\n",
              "      const blob = new Blob(buffers, {type: 'application/binary'});\n",
              "      const a = document.createElement('a');\n",
              "      a.href = window.URL.createObjectURL(blob);\n",
              "      a.download = filename;\n",
              "      div.appendChild(a);\n",
              "      a.click();\n",
              "      div.remove();\n",
              "    }\n",
              "  "
            ]
          },
          "metadata": {}
        },
        {
          "output_type": "display_data",
          "data": {
            "text/plain": [
              "<IPython.core.display.Javascript object>"
            ],
            "application/javascript": [
              "download(\"download_177ef80a-08fd-4577-a069-9ad53bb5c202\", \"output_file.xlsx\", 130398)"
            ]
          },
          "metadata": {}
        }
      ]
    },
    {
      "cell_type": "code",
      "source": [
        "import pandas as pd\n",
        "\n",
        "# Read the Excel file with multiple tabs\n",
        "excel_file = pd.ExcelFile('/content/CA_items.xlsx')\n",
        "\n",
        "# Create an ExcelWriter to save the results\n",
        "with pd.ExcelWriter('output_file.xlsx', engine='openpyxl') as writer:\n",
        "\n",
        "    # Iterate over each tab in the Excel file\n",
        "    for sheet_name in excel_file.sheet_names:\n",
        "        df = pd.read_excel('/content/CA_items.xlsx', sheet_name=sheet_name, header=0)\n",
        "\n",
        "        # Preprocessing\n",
        "        df['Type'] = df['Type'].astype(str)\n",
        "        df['Name'] = df['Name'].astype(str)\n",
        "        df['Item'] = df['Item'].astype(str)\n",
        "        df['Amount'] = df['Amount'].replace(',', '', regex=True).astype(float)\n",
        "        df['Qty'] = df['Qty'].replace(',', '', regex=True).astype(float)\n",
        "\n",
        "        # Total sales calculations\n",
        "        def calculate_totals(groupby_column):\n",
        "            totals_df = df.groupby(groupby_column).agg({'Amount': 'sum', 'Qty': 'sum'}).reset_index()\n",
        "\n",
        "            # Insert overall totals row\n",
        "            overall_totals = totals_df[['Amount', 'Qty']].sum()\n",
        "            overall_totals[groupby_column] = 'TOTALS'\n",
        "            totals_df = pd.concat([totals_df, pd.DataFrame([overall_totals])], ignore_index=True)\n",
        "            ordered_index = ['TOTALS'] + [x for x in totals_df[groupby_column] if x != 'TOTALS']\n",
        "            totals_df = totals_df.set_index(groupby_column).loc[ordered_index].reset_index()\n",
        "\n",
        "            return totals_df\n",
        "\n",
        "        matrix_rep_df = calculate_totals('Rep')\n",
        "        matrix_item_df = calculate_totals('Item')\n",
        "        matrix_name_df = calculate_totals('Name')\n",
        "\n",
        "        # Save matrices for the current sheet to Excel\n",
        "        matrix_rep_df.to_excel(writer, sheet_name=f'{sheet_name} Rep', index=False)\n",
        "        matrix_item_df.to_excel(writer, sheet_name=f'{sheet_name} Item', index=False)\n",
        "        matrix_name_df.to_excel(writer, sheet_name=f'{sheet_name} Customer', index=False)\n",
        "\n",
        "    # Autofit columns for each matrix sheet\n",
        "    for suffix in ['Rep', 'Item', 'Customer']:\n",
        "        worksheet = writer.sheets[f'{sheet_name} {suffix}']\n",
        "        for column_cells in worksheet.columns:\n",
        "            try:\n",
        "                length = max(len(str(cell.value)) for cell in column_cells)\n",
        "                worksheet.column_dimensions[column_cells[0].column_letter].width = length\n",
        "            except AttributeError:\n",
        "                continue\n",
        "\n",
        "# Download the Excel file\n",
        "from google.colab import files\n",
        "files.download('output_file.xlsx')\n",
        "\n"
      ],
      "metadata": {
        "colab": {
          "base_uri": "https://localhost:8080/",
          "height": 17
        },
        "id": "fJnd1oTiYUTz",
        "outputId": "7e73f907-8bfd-49b0-ae90-b2400a8a672a"
      },
      "execution_count": null,
      "outputs": [
        {
          "output_type": "display_data",
          "data": {
            "text/plain": [
              "<IPython.core.display.Javascript object>"
            ],
            "application/javascript": [
              "\n",
              "    async function download(id, filename, size) {\n",
              "      if (!google.colab.kernel.accessAllowed) {\n",
              "        return;\n",
              "      }\n",
              "      const div = document.createElement('div');\n",
              "      const label = document.createElement('label');\n",
              "      label.textContent = `Downloading \"${filename}\": `;\n",
              "      div.appendChild(label);\n",
              "      const progress = document.createElement('progress');\n",
              "      progress.max = size;\n",
              "      div.appendChild(progress);\n",
              "      document.body.appendChild(div);\n",
              "\n",
              "      const buffers = [];\n",
              "      let downloaded = 0;\n",
              "\n",
              "      const channel = await google.colab.kernel.comms.open(id);\n",
              "      // Send a message to notify the kernel that we're ready.\n",
              "      channel.send({})\n",
              "\n",
              "      for await (const message of channel.messages) {\n",
              "        // Send a message to notify the kernel that we're ready.\n",
              "        channel.send({})\n",
              "        if (message.buffers) {\n",
              "          for (const buffer of message.buffers) {\n",
              "            buffers.push(buffer);\n",
              "            downloaded += buffer.byteLength;\n",
              "            progress.value = downloaded;\n",
              "          }\n",
              "        }\n",
              "      }\n",
              "      const blob = new Blob(buffers, {type: 'application/binary'});\n",
              "      const a = document.createElement('a');\n",
              "      a.href = window.URL.createObjectURL(blob);\n",
              "      a.download = filename;\n",
              "      div.appendChild(a);\n",
              "      a.click();\n",
              "      div.remove();\n",
              "    }\n",
              "  "
            ]
          },
          "metadata": {}
        },
        {
          "output_type": "display_data",
          "data": {
            "text/plain": [
              "<IPython.core.display.Javascript object>"
            ],
            "application/javascript": [
              "download(\"download_c95a8692-78f8-4f66-a75c-792229a5cbb7\", \"output_file.xlsx\", 64794)"
            ]
          },
          "metadata": {}
        }
      ]
    },
    {
      "cell_type": "markdown",
      "source": [
        "Migue brand"
      ],
      "metadata": {
        "id": "7eWIZaJoRogp"
      }
    },
    {
      "cell_type": "code",
      "source": [
        "import pandas as pd\n",
        "\n",
        "# Read the Excel file with multiple tabs\n",
        "excel_file = pd.ExcelFile('/content/Fresno_report.xlsx')\n",
        "\n",
        "# Create a new Excel writer object\n",
        "with pd.ExcelWriter('output_file.xlsx', engine='openpyxl') as writer:\n",
        "    # Iterate over each tab in the Excel file\n",
        "    for sheet_name in excel_file.sheet_names:\n",
        "        # Read the current tab as a DataFrame\n",
        "        df = pd.read_excel('/content/Fresno_report.xlsx', sheet_name=sheet_name, header=0)\n",
        "\n",
        "        # Convert 'Type', 'Name', and 'Date' columns to appropriate datatypes\n",
        "        df['Type'] = df['Type'].astype(str)\n",
        "        df['Name'] = df['Name'].astype(str)\n",
        "        df['Date'] = pd.to_datetime(df['Date'])\n",
        "\n",
        "        # Clean 'Amount' column by removing commas and converting to float\n",
        "        df['Amount'] = df['Amount'].replace(',', '', regex=True).astype(float)\n",
        "\n",
        "        # Function to create pivot data\n",
        "        def create_pivot_data(dataframe):\n",
        "            pivot_data = dataframe.pivot_table(values='Amount', index='Name', columns=pd.Grouper(key='Date', freq='W-SUN'), aggfunc='sum').reset_index()\n",
        "\n",
        "            # Calculate totals and append to the top\n",
        "            data_totals = pivot_data.sum(numeric_only=True)\n",
        "            data_totals['Name'] = 'TOTAL'\n",
        "            pivot_with_totals = pd.concat([pd.DataFrame(data_totals).T, pivot_data], ignore_index=True)\n",
        "\n",
        "            # Ensure 'Name' column is the first column\n",
        "            ordered_cols = ['Name'] + [col for col in pivot_with_totals if col != 'Name']\n",
        "            pivot_with_totals = pivot_with_totals[ordered_cols]\n",
        "\n",
        "            return pivot_with_totals\n",
        "\n",
        "        # Separate data by Type and generate pivot tables\n",
        "        invoices_data = create_pivot_data(df[df['Type'] == 'Invoice'])\n",
        "        credit_memos_data = create_pivot_data(df[df['Type'] == 'Credit Memo'])\n",
        "\n",
        "        # Write the separated data to Excel\n",
        "        invoices_data.to_excel(writer, sheet_name=sheet_name + ' - Invoices', index=False)\n",
        "        credit_memos_data.to_excel(writer, sheet_name=sheet_name + ' - Credit Memos', index=False)\n",
        "\n",
        "    # Autofit columns for each sheet\n",
        "    workbook = writer.book\n",
        "    for sheet in workbook.sheetnames:\n",
        "        worksheet = workbook[sheet]\n",
        "        for column_cells in worksheet.columns:\n",
        "            length = max(len(str(cell.value)) for cell in column_cells)\n",
        "            worksheet.column_dimensions[column_cells[0].column_letter].width = length\n",
        "\n",
        "# Download the Excel file\n",
        "from google.colab import files\n",
        "files.download('output_file.xlsx')\n"
      ],
      "metadata": {
        "colab": {
          "base_uri": "https://localhost:8080/",
          "height": 17
        },
        "id": "LxZYQUt0SQV9",
        "outputId": "52df598c-d30c-47ae-a193-ea4281c07c08"
      },
      "execution_count": null,
      "outputs": [
        {
          "output_type": "display_data",
          "data": {
            "text/plain": [
              "<IPython.core.display.Javascript object>"
            ],
            "application/javascript": [
              "\n",
              "    async function download(id, filename, size) {\n",
              "      if (!google.colab.kernel.accessAllowed) {\n",
              "        return;\n",
              "      }\n",
              "      const div = document.createElement('div');\n",
              "      const label = document.createElement('label');\n",
              "      label.textContent = `Downloading \"${filename}\": `;\n",
              "      div.appendChild(label);\n",
              "      const progress = document.createElement('progress');\n",
              "      progress.max = size;\n",
              "      div.appendChild(progress);\n",
              "      document.body.appendChild(div);\n",
              "\n",
              "      const buffers = [];\n",
              "      let downloaded = 0;\n",
              "\n",
              "      const channel = await google.colab.kernel.comms.open(id);\n",
              "      // Send a message to notify the kernel that we're ready.\n",
              "      channel.send({})\n",
              "\n",
              "      for await (const message of channel.messages) {\n",
              "        // Send a message to notify the kernel that we're ready.\n",
              "        channel.send({})\n",
              "        if (message.buffers) {\n",
              "          for (const buffer of message.buffers) {\n",
              "            buffers.push(buffer);\n",
              "            downloaded += buffer.byteLength;\n",
              "            progress.value = downloaded;\n",
              "          }\n",
              "        }\n",
              "      }\n",
              "      const blob = new Blob(buffers, {type: 'application/binary'});\n",
              "      const a = document.createElement('a');\n",
              "      a.href = window.URL.createObjectURL(blob);\n",
              "      a.download = filename;\n",
              "      div.appendChild(a);\n",
              "      a.click();\n",
              "      div.remove();\n",
              "    }\n",
              "  "
            ]
          },
          "metadata": {}
        },
        {
          "output_type": "display_data",
          "data": {
            "text/plain": [
              "<IPython.core.display.Javascript object>"
            ],
            "application/javascript": [
              "download(\"download_b6b0f55a-aff7-4e25-8705-ba76151749ab\", \"output_file.xlsx\", 313191)"
            ]
          },
          "metadata": {}
        }
      ]
    },
    {
      "cell_type": "code",
      "source": [
        "import pandas as pd\n",
        "\n",
        "# Read the Excel file with multiple tabs\n",
        "excel_file = pd.ExcelFile('/content/Fresno_report.xlsx')\n",
        "\n",
        "# Create a new Excel writer object\n",
        "with pd.ExcelWriter('output_file.xlsx', engine='openpyxl') as writer:\n",
        "    # Iterate over each tab in the Excel file\n",
        "    for sheet_name in excel_file.sheet_names:\n",
        "        # Read the current tab as a DataFrame\n",
        "        df = pd.read_excel('/content/Fresno_report.xlsx', sheet_name=sheet_name, header=0)\n",
        "\n",
        "        # Convert 'Type', 'Name', and 'Date' columns to appropriate datatypes\n",
        "        df['Type'] = df['Type'].astype(str)\n",
        "        df['Name'] = df['Name'].astype(str)\n",
        "        df['Date'] = pd.to_datetime(df['Date'])\n",
        "\n",
        "        # Clean 'Amount' column by removing commas and converting to float\n",
        "        df['Amount'] = df['Amount'].replace(',', '', regex=True).astype(float)\n",
        "\n",
        "        # Function to create pivot data\n",
        "        def create_pivot_data(dataframe):\n",
        "            pivot_data = dataframe.pivot_table(values='Amount', index='Name', columns=pd.Grouper(key='Date', freq='W-SUN'), aggfunc='sum').reset_index()\n",
        "\n",
        "            # Calculate totals and append to the top\n",
        "            data_totals = pivot_data.sum(numeric_only=True)\n",
        "            data_totals['Name'] = 'TOTAL'\n",
        "            pivot_with_totals = pd.concat([pd.DataFrame(data_totals).T, pivot_data], ignore_index=True)\n",
        "\n",
        "            # Ensure 'Name' column is the first column\n",
        "            ordered_cols = ['Name'] + [col for col in pivot_with_totals if col != 'Name']\n",
        "            pivot_with_totals = pivot_with_totals[ordered_cols]\n",
        "\n",
        "            return pivot_with_totals\n",
        "\n",
        "        # Separate data by Type and generate pivot tables\n",
        "        invoices_data = create_pivot_data(df[df['Type'] == 'Invoice'])\n",
        "        credit_memos_data = create_pivot_data(df[df['Type'] == 'Credit Memo'])\n",
        "\n",
        "        # Write the separated data to Excel\n",
        "        invoices_data.to_excel(writer, sheet_name=sheet_name + ' - Invoices', index=False)\n",
        "        credit_memos_data.to_excel(writer, sheet_name=sheet_name + ' - Credit Memos', index=False)\n",
        "\n",
        "    # Autofit columns for each sheet\n",
        "    workbook = writer.book\n",
        "    for sheet in workbook.sheetnames:\n",
        "        worksheet = workbook[sheet]\n",
        "        for column_cells in worksheet.columns:\n",
        "            length = max(len(str(cell.value)) for cell in column_cells)\n",
        "            worksheet.column_dimensions[column_cells[0].column_letter].width = length\n",
        "\n",
        "# Download the Excel file\n",
        "from google.colab import files\n",
        "files.download('output_file.xlsx')"
      ],
      "metadata": {
        "id": "r4Wg_uFJSicG"
      },
      "execution_count": null,
      "outputs": []
    },
    {
      "cell_type": "markdown",
      "source": [
        "Ventas frecuencia mensual"
      ],
      "metadata": {
        "id": "3yKVyK3sORjp"
      }
    },
    {
      "cell_type": "code",
      "source": [
        "import pandas as pd\n",
        "\n",
        "# Read the Excel file with multiple tabs\n",
        "excel_file = pd.ExcelFile('/content/Cardenas_2023.xlsx')\n",
        "\n",
        "# Create a new Excel writer object\n",
        "with pd.ExcelWriter('output_file.xlsx', engine='openpyxl') as writer:\n",
        "    # Iterate over each tab in the Excel file\n",
        "    for sheet_name in excel_file.sheet_names:\n",
        "        # Read the current tab as a DataFrame\n",
        "        df = pd.read_excel('/content/Cardenas_2023.xlsx', sheet_name=sheet_name, header=0)\n",
        "\n",
        "        # Convert 'Type', 'Name', and 'Date' columns to appropriate datatypes\n",
        "        df['Type'] = df['Type'].astype(str)\n",
        "        df['Name'] = df['Name'].astype(str)\n",
        "        df['Date'] = pd.to_datetime(df['Date'])\n",
        "\n",
        "        # Clean 'Amount' column by removing commas and converting to float\n",
        "        df['Amount'] = df['Amount'].replace(',', '', regex=True).astype(float)\n",
        "\n",
        "        # Function to create pivot data\n",
        "        def create_pivot_data(dataframe):\n",
        "            pivot_data = dataframe.pivot_table(values='Amount', index='Name', columns=pd.Grouper(key='Date', freq='M'), aggfunc='sum').reset_index()\n",
        "\n",
        "            # Calculate totals and append to the top\n",
        "            data_totals = pivot_data.sum(numeric_only=True)\n",
        "            data_totals['Name'] = 'TOTAL'\n",
        "            pivot_with_totals = pd.concat([pd.DataFrame(data_totals).T, pivot_data], ignore_index=True)\n",
        "\n",
        "            # Ensure 'Name' column is the first column\n",
        "            ordered_cols = ['Name'] + [col for col in pivot_with_totals if col != 'Name']\n",
        "            pivot_with_totals = pivot_with_totals[ordered_cols]\n",
        "\n",
        "            return pivot_with_totals\n",
        "\n",
        "        # Separate data by Type and generate pivot tables\n",
        "        invoices_data = create_pivot_data(df[df['Type'] == 'Invoice'])\n",
        "        credit_memos_data = create_pivot_data(df[df['Type'] == 'Credit Memo'])\n",
        "\n",
        "        # Write the separated data to Excel\n",
        "        invoices_data.to_excel(writer, sheet_name=sheet_name + ' - Invoices', index=False)\n",
        "        credit_memos_data.to_excel(writer, sheet_name=sheet_name + ' - Credit Memos', index=False)\n",
        "\n",
        "    # Autofit columns for each sheet\n",
        "    workbook = writer.book\n",
        "    for sheet in workbook.sheetnames:\n",
        "        worksheet = workbook[sheet]\n",
        "        for column_cells in worksheet.columns:\n",
        "            length = max(len(str(cell.value)) for cell in column_cells)\n",
        "            worksheet.column_dimensions[column_cells[0].column_letter].width = length\n",
        "\n",
        "# Download the Excel file\n",
        "from google.colab import files\n",
        "files.download('output_file.xlsx')\n"
      ],
      "metadata": {
        "colab": {
          "base_uri": "https://localhost:8080/",
          "height": 17
        },
        "id": "ffHDU0byOTIl",
        "outputId": "2e695d56-289c-4179-9d3f-d3dd172967ec"
      },
      "execution_count": null,
      "outputs": [
        {
          "output_type": "display_data",
          "data": {
            "text/plain": [
              "<IPython.core.display.Javascript object>"
            ],
            "application/javascript": [
              "\n",
              "    async function download(id, filename, size) {\n",
              "      if (!google.colab.kernel.accessAllowed) {\n",
              "        return;\n",
              "      }\n",
              "      const div = document.createElement('div');\n",
              "      const label = document.createElement('label');\n",
              "      label.textContent = `Downloading \"${filename}\": `;\n",
              "      div.appendChild(label);\n",
              "      const progress = document.createElement('progress');\n",
              "      progress.max = size;\n",
              "      div.appendChild(progress);\n",
              "      document.body.appendChild(div);\n",
              "\n",
              "      const buffers = [];\n",
              "      let downloaded = 0;\n",
              "\n",
              "      const channel = await google.colab.kernel.comms.open(id);\n",
              "      // Send a message to notify the kernel that we're ready.\n",
              "      channel.send({})\n",
              "\n",
              "      for await (const message of channel.messages) {\n",
              "        // Send a message to notify the kernel that we're ready.\n",
              "        channel.send({})\n",
              "        if (message.buffers) {\n",
              "          for (const buffer of message.buffers) {\n",
              "            buffers.push(buffer);\n",
              "            downloaded += buffer.byteLength;\n",
              "            progress.value = downloaded;\n",
              "          }\n",
              "        }\n",
              "      }\n",
              "      const blob = new Blob(buffers, {type: 'application/binary'});\n",
              "      const a = document.createElement('a');\n",
              "      a.href = window.URL.createObjectURL(blob);\n",
              "      a.download = filename;\n",
              "      div.appendChild(a);\n",
              "      a.click();\n",
              "      div.remove();\n",
              "    }\n",
              "  "
            ]
          },
          "metadata": {}
        },
        {
          "output_type": "display_data",
          "data": {
            "text/plain": [
              "<IPython.core.display.Javascript object>"
            ],
            "application/javascript": [
              "download(\"download_0aea2f50-4f53-45c2-be34-279d4c02c14a\", \"output_file.xlsx\", 10904)"
            ]
          },
          "metadata": {}
        }
      ]
    },
    {
      "cell_type": "markdown",
      "source": [
        "Suma de invoice + credit"
      ],
      "metadata": {
        "id": "bd6SwGBOPMoo"
      }
    },
    {
      "cell_type": "code",
      "source": [
        "import pandas as pd\n",
        "\n",
        "# Read the Excel file with multiple tabs\n",
        "excel_file = pd.ExcelFile('/content/Fresno_report.xlsx')\n",
        "\n",
        "# Create a new Excel writer object\n",
        "with pd.ExcelWriter('output_file.xlsx', engine='openpyxl') as writer:\n",
        "    # Iterate over each tab in the Excel file\n",
        "    for sheet_name in excel_file.sheet_names:\n",
        "        # Read the current tab as a DataFrame\n",
        "        df = pd.read_excel('/content/Fresno_report.xlsx', sheet_name=sheet_name, header=0)\n",
        "\n",
        "        # Convert 'Type', 'Name', and 'Date' columns to appropriate datatypes\n",
        "        df['Type'] = df['Type'].astype(str)\n",
        "        df['Name'] = df['Name'].astype(str)\n",
        "        df['Date'] = pd.to_datetime(df['Date'])\n",
        "\n",
        "        # Clean 'Amount' column by removing commas and converting to float\n",
        "        df['Amount'] = df['Amount'].replace(',', '', regex=True).astype(float)\n",
        "\n",
        "        # Function to create pivot data\n",
        "        def create_pivot_data(dataframe):\n",
        "            pivot_data = dataframe.pivot_table(values='Amount', index='Name', columns=pd.Grouper(key='Date', freq='M'), aggfunc='sum').reset_index()\n",
        "\n",
        "            # Calculate totals and append to the top\n",
        "            data_totals = pivot_data.sum(numeric_only=True)\n",
        "            data_totals['Name'] = 'TOTAL'\n",
        "            pivot_with_totals = pd.concat([pd.DataFrame(data_totals).T, pivot_data], ignore_index=True)\n",
        "\n",
        "            # Ensure 'Name' column is the first column\n",
        "            ordered_cols = ['Name'] + [col for col in pivot_with_totals if col != 'Name']\n",
        "            pivot_with_totals = pivot_with_totals[ordered_cols]\n",
        "\n",
        "            return pivot_with_totals\n",
        "\n",
        "        # Generate a pivot table for all data\n",
        "        all_data = create_pivot_data(df)\n",
        "\n",
        "        # Write the combined data to Excel\n",
        "        all_data.to_excel(writer, sheet_name=sheet_name + ' - Monthly Sales', index=False)\n",
        "\n",
        "    # Autofit columns for each sheet\n",
        "    workbook = writer.book\n",
        "    for sheet in workbook.sheetnames:\n",
        "        worksheet = workbook[sheet]\n",
        "        for column_cells in worksheet.columns:\n",
        "            length = max(len(str(cell.value)) for cell in column_cells)\n",
        "            worksheet.column_dimensions[column_cells[0].column_letter].width = length\n",
        "\n",
        "# Download the Excel file\n",
        "from google.colab import files\n",
        "files.download('output_file.xlsx')\n"
      ],
      "metadata": {
        "colab": {
          "base_uri": "https://localhost:8080/",
          "height": 17
        },
        "id": "OuM4XPrjOlN3",
        "outputId": "4c7b20ac-e5d3-4ced-e62a-4c757786ff5e"
      },
      "execution_count": null,
      "outputs": [
        {
          "output_type": "display_data",
          "data": {
            "text/plain": [
              "<IPython.core.display.Javascript object>"
            ],
            "application/javascript": [
              "\n",
              "    async function download(id, filename, size) {\n",
              "      if (!google.colab.kernel.accessAllowed) {\n",
              "        return;\n",
              "      }\n",
              "      const div = document.createElement('div');\n",
              "      const label = document.createElement('label');\n",
              "      label.textContent = `Downloading \"${filename}\": `;\n",
              "      div.appendChild(label);\n",
              "      const progress = document.createElement('progress');\n",
              "      progress.max = size;\n",
              "      div.appendChild(progress);\n",
              "      document.body.appendChild(div);\n",
              "\n",
              "      const buffers = [];\n",
              "      let downloaded = 0;\n",
              "\n",
              "      const channel = await google.colab.kernel.comms.open(id);\n",
              "      // Send a message to notify the kernel that we're ready.\n",
              "      channel.send({})\n",
              "\n",
              "      for await (const message of channel.messages) {\n",
              "        // Send a message to notify the kernel that we're ready.\n",
              "        channel.send({})\n",
              "        if (message.buffers) {\n",
              "          for (const buffer of message.buffers) {\n",
              "            buffers.push(buffer);\n",
              "            downloaded += buffer.byteLength;\n",
              "            progress.value = downloaded;\n",
              "          }\n",
              "        }\n",
              "      }\n",
              "      const blob = new Blob(buffers, {type: 'application/binary'});\n",
              "      const a = document.createElement('a');\n",
              "      a.href = window.URL.createObjectURL(blob);\n",
              "      a.download = filename;\n",
              "      div.appendChild(a);\n",
              "      a.click();\n",
              "      div.remove();\n",
              "    }\n",
              "  "
            ]
          },
          "metadata": {}
        },
        {
          "output_type": "display_data",
          "data": {
            "text/plain": [
              "<IPython.core.display.Javascript object>"
            ],
            "application/javascript": [
              "download(\"download_4fe32a4b-9dea-4f33-ac6b-8fdbf0862cbd\", \"output_file.xlsx\", 93515)"
            ]
          },
          "metadata": {}
        }
      ]
    },
    {
      "cell_type": "code",
      "source": [],
      "metadata": {
        "id": "JiTQINuCPYse"
      },
      "execution_count": null,
      "outputs": []
    }
  ]
}